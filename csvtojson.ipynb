{
  "nbformat": 4,
  "nbformat_minor": 0,
  "metadata": {
    "colab": {
      "name": "Untitled23.ipynb",
      "provenance": [],
      "authorship_tag": "ABX9TyNTDXx2GfErfwCH7KQEHjS7",
      "include_colab_link": true
    },
    "kernelspec": {
      "name": "python3",
      "display_name": "Python 3"
    },
    "language_info": {
      "name": "python"
    }
  },
  "cells": [
    {
      "cell_type": "markdown",
      "metadata": {
        "id": "view-in-github",
        "colab_type": "text"
      },
      "source": [
        "<a href=\"https://colab.research.google.com/github/Uh-hub/project_nanlina/blob/main/csvtojson.ipynb\" target=\"_parent\"><img src=\"https://colab.research.google.com/assets/colab-badge.svg\" alt=\"Open In Colab\"/></a>"
      ]
    },
    {
      "cell_type": "code",
      "metadata": {
        "id": "zYeCdkjseQyL"
      },
      "source": [
        "import csv\n",
        "import json\n",
        "\n",
        "\n",
        "input_file_name = \"/content/광주광역시_공영주차장 현황_20210914.csv\"\n",
        "output_file_name = \"parkingLot.txt\"\n",
        "\n",
        "with open(input_file_name, \"r\", encoding=\"utf-8\", newline=\"\") as input_file, open(output_file_name, \"w\", encoding=\"utf-8\", newline=\"\") as output_file:\n",
        "  reader = csv.reader(input_file)\n",
        "\n",
        "  col_names = next(reader)\n",
        "\n",
        "  for cols in reader:\n",
        "    doc = {col_name: col for col_name, col in zip(col_names, cols)}\n",
        "    print(json.dumps(doc, ensure_ascii=False), file=output_file)"
      ],
      "execution_count": 9,
      "outputs": []
    }
  ]
}